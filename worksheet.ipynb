{
 "cells": [
  {
   "cell_type": "markdown",
   "source": [
    "This is just a starter file to do some calculations for the exam. You can use this, make your own, or do whatever else you want to do to answer the questions. Think of this like scrap paper, but more nerdy.\n",
    "\n",
    "The imports below should be what you need. You can add to that if you want or need more stuff. "
   ],
   "metadata": {}
  },
  {
   "cell_type": "code",
   "execution_count": null,
   "source": [
    "#Import Stuff\n",
    "import thinkplot\n",
    "import thinkstats2\n",
    "import pandas as pd\n",
    "import numpy as np\n",
    "import matplotlib.pyplot as plt\n",
    "import seaborn as sns\n",
    "import scipy.stats as ss\n",
    "import math"
   ],
   "outputs": [],
   "metadata": {}
  },
  {
   "cell_type": "code",
   "execution_count": null,
   "source": [
    "#These two datasets may be used. I've loaded them for you into two dataframes. \n",
    "#Note: The third and forth line here CREATE NEW columns with height in cm and weight in kg. The old one still exists. \n",
    "\n",
    "#Load data \n",
    "df_nba = pd.read_csv(\"NBA.csv\")\n",
    "df_nfl = pd.read_csv(\"NFL.csv\")\n",
    "#Conver to cm and kg\n",
    "df_nfl[\"Height\"] = df_nfl[\"Height (inches)\"]*2.54\n",
    "df_nfl[\"Weight\"] = df_nfl[\"Weight (lbs)\"]/2.205\n",
    "#Remove outliers. \n",
    "df_nfl = df_nfl[df_nfl[\"Age\"]>18]\n",
    "df_nfl = df_nfl[df_nfl[\"Age\"]<50]\n",
    "\n",
    "#Any of the questions asked regarding height and weight use metric.\n",
    "#For any height/weight questions use these. They've been cleaned of missing values and outliers. \n",
    "nbaH = pd.Series(df_nba[\"Height\"]).dropna()\n",
    "nflH = pd.Series(df_nfl[\"Height\"]).dropna()\n",
    "nbaW = pd.Series(df_nba[\"Weight\"]).dropna()\n",
    "nflW = pd.Series(df_nfl[\"Weight\"]).dropna()"
   ],
   "outputs": [],
   "metadata": {}
  }
 ],
 "metadata": {
  "orig_nbformat": 4,
  "language_info": {
   "name": "python",
   "version": "3.8.11",
   "mimetype": "text/x-python",
   "codemirror_mode": {
    "name": "ipython",
    "version": 3
   },
   "pygments_lexer": "ipython3",
   "nbconvert_exporter": "python",
   "file_extension": ".py"
  },
  "kernelspec": {
   "name": "python3",
   "display_name": "Python 3.8.11 64-bit ('base': conda)"
  },
  "interpreter": {
   "hash": "f7dd21bfe8933d21e2c58a22bc74eff6eccb2180dc6c2e2695cf2d3822934f32"
  }
 },
 "nbformat": 4,
 "nbformat_minor": 2
}